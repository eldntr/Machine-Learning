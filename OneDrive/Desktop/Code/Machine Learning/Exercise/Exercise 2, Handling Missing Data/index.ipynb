{
 "cells": [
  {
   "cell_type": "markdown",
   "metadata": {},
   "source": [
    "### Handle Missing data"
   ]
  },
  {
   "cell_type": "markdown",
   "metadata": {},
   "source": [
    "#### Import Libraries\n",
    "* Pandas        : high-performance and easy to use data structure and data analysis tools\n",
    "* NumPy         : Use to work with array\n",
    "* SimpleImputer : is a class from `sklearn.impute` module that provides basic strategies of missing values."
   ]
  },
  {
   "cell_type": "code",
   "execution_count": null,
   "metadata": {},
   "outputs": [],
   "source": [
    "import pandas as pd\n",
    "import numpy as np\n",
    "from sklearn.impute import SimpleImputer"
   ]
  },
  {
   "cell_type": "markdown",
   "metadata": {},
   "source": [
    "#### Load the Dataset\n",
    "Dataset is loaded to Pandas dataframe using the `read_csv` function to read CSV file into dataframe"
   ]
  },
  {
   "cell_type": "code",
   "execution_count": null,
   "metadata": {},
   "outputs": [],
   "source": [
    "df = pd.read_csv(\"pima-indians-diabetes.csv\")"
   ]
  },
  {
   "cell_type": "markdown",
   "metadata": {},
   "source": [
    "#### Identify Missing Data\n",
    "To identify missing data of DataFrame we can use isnull() method, return boolean value. Then count the missing data based on its value (boolean)"
   ]
  },
  {
   "cell_type": "code",
   "execution_count": null,
   "metadata": {},
   "outputs": [],
   "source": [
    "missing_data = df.isnull().sum()\n",
    "print(\"Missing data: \\n\", missing_data)"
   ]
  },
  {
   "cell_type": "markdown",
   "metadata": {},
   "source": [
    "#### Replace Missing Data with Mean Value"
   ]
  },
  {
   "cell_type": "markdown",
   "metadata": {},
   "source": [
    "`SimpleImputer` is class from `sklearn.impute` module. This class is provide basic strategies for imputing (filling in) missing value, using either constant or the mean, median, or medium, etc. `imputer` is object that initialized from class `Simple Imputer` by using `SimpleImputer(missing_values=np.nan, strategy=\"mean\")`. When we initialized, we pass argument `missing_value=np.nan` and `strategy=\"mean\"` to the __init__ method from class `Simple Imputer`. `missing_value=np.nan` indicate for filling missing value that represented as `np.nan` (missing data in pandas DataFrame) and `strategy=\"mean` to use mean as strategy to fill missing value. Both is argument specifies that passed to the `SimpleImputer` class when instance is created. \n",
    "\n",
    "With using `imputer`, we use this object to fill missing value on our data with using mean strategy."
   ]
  },
  {
   "cell_type": "code",
   "execution_count": null,
   "metadata": {},
   "outputs": [],
   "source": [
    "imputer = SimpleImputer(missing_values=np.nan, strategy=\"mean\")"
   ]
  },
  {
   "cell_type": "markdown",
   "metadata": {},
   "source": [
    "After instance of `SimpleImputer` is stored in `imputer` as object. To fill the missing data we use `fit` and `transform` methods. `fit` method will compute the imputation values based on the provide data, and the `transform` method will fill the missing values."
   ]
  },
  {
   "cell_type": "code",
   "execution_count": null,
   "metadata": {},
   "outputs": [],
   "source": [
    "imputer.fit(df)\n",
    "dataset_imputed = imputer.transform(df)\n",
    "print(df)"
   ]
  }
 ],
 "metadata": {
  "kernelspec": {
   "display_name": "Python 3",
   "language": "python",
   "name": "python3"
  },
  "language_info": {
   "codemirror_mode": {
    "name": "ipython",
    "version": 3
   },
   "file_extension": ".py",
   "mimetype": "text/x-python",
   "name": "python",
   "nbconvert_exporter": "python",
   "pygments_lexer": "ipython3",
   "version": "3.12.0"
  }
 },
 "nbformat": 4,
 "nbformat_minor": 2
}
