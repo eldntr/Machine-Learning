{
 "cells": [
  {
   "cell_type": "code",
   "execution_count": null,
   "metadata": {},
   "outputs": [],
   "source": [
    "# Importing the necessary libraries\n",
    "import pandas as pd\n",
    "import numpy as np\n",
    "\n",
    "from sklearn.compose import ColumnTransformer\n",
    "from sklearn.preprocessing import OneHotEncoder\n",
    "from sklearn.preprocessing import LabelEncoder"
   ]
  },
  {
   "cell_type": "code",
   "execution_count": null,
   "metadata": {},
   "outputs": [],
   "source": [
    "# Load the dataset\n",
    "df = pd.read_csv('titanic.csv')\n",
    "\n",
    "# Identify the categorical data\n",
    "categorical_data = ['Sex', 'Embarked', 'Pclass']"
   ]
  },
  {
   "cell_type": "code",
   "execution_count": null,
   "metadata": {},
   "outputs": [],
   "source": [
    "# Implement an instance of the ColumnTransformer class\n",
    "# Transformer parameter is sequence list from tuple, that defines name, a transformer object\n",
    "# and list of columns on which the transformer should be applied\n",
    "# This means that a `OneHotEncoder` will be applied to the column in `categorical data` which a class \n",
    "# used for converting categorical variables into a form that could be provided to ML algorithms\n",
    "\n",
    "# `remainder='passthrough' argument means that columns not specified in `transformer` will be left\n",
    "# in the output without any changes.\n",
    "ct = ColumnTransformer(transformers=[('encoder', OneHotEncoder(), categorical_data)], remainder='passthrough')\n",
    "\n",
    "# The instance of `ColumnTransformer` stored in variable `ct`. Now, `ct` can be used to transform a \n",
    "# DataFrame or array-like object using `fit` and `transform` method\n",
    "\n",
    "# Usage: `fit` method calculates the mean and standard deviation of data and `transform`  method applies\n",
    "# the standardization to the data by subtracking the mean an dividing by standard deviation.\n",
    "\n",
    "# Apply the fit_transform method on the instance of ColumnTransformer\n",
    "# fit_transform method do both of fit and transform, more efficiently than call fit and transform separately\n",
    "X = ct.fit_transform(df)\n",
    "\n",
    "# Convert the output into a NumPy array\n",
    "X = np.array(X)\n",
    "\n",
    "# Use LabelEncoder to encode binary categorical data\n",
    "le = LabelEncoder()\n",
    "y = le.fit_transform(df['Survived'])\n",
    "\n",
    "# Print the updated matrix of features and the dependent variable vector\n",
    "print(\"Updated matrix of features: \\n\", X)\n",
    "print(\"Updated dependent variable vector: \\n\", y)"
   ]
  }
 ],
 "metadata": {
  "kernelspec": {
   "display_name": "Python 3",
   "language": "python",
   "name": "python3"
  },
  "language_info": {
   "codemirror_mode": {
    "name": "ipython",
    "version": 3
   },
   "file_extension": ".py",
   "mimetype": "text/x-python",
   "name": "python",
   "nbconvert_exporter": "python",
   "pygments_lexer": "ipython3",
   "version": "3.12.0"
  }
 },
 "nbformat": 4,
 "nbformat_minor": 2
}
