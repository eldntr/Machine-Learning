{
 "cells": [
  {
   "cell_type": "markdown",
   "metadata": {},
   "source": [
    "## Importing Library and Preprocessing Dataset"
   ]
  },
  {
   "cell_type": "markdown",
   "metadata": {},
   "source": [
    "### Importing Library"
   ]
  },
  {
   "cell_type": "code",
   "execution_count": null,
   "metadata": {},
   "outputs": [],
   "source": [
    "import pandas as pd\n",
    "import numpy as np\n",
    "from sklearn.impute import SimpleImputer"
   ]
  },
  {
   "cell_type": "markdown",
   "metadata": {},
   "source": [
    "Usage: \n",
    "1. `Pandas` = High pergormance and easy to use data structure and data analysis tools\n",
    "2. `Numpy` = Use to work with array\n",
    "3. `SimpleImputer` : is a class from `sklearn.impute` module that provides basic strategies of missing values."
   ]
  },
  {
   "cell_type": "markdown",
   "metadata": {},
   "source": [
    "### About Dataset"
   ]
  },
  {
   "cell_type": "markdown",
   "metadata": {},
   "source": [
    "#### Dataframe"
   ]
  },
  {
   "cell_type": "markdown",
   "metadata": {},
   "source": [
    "DataFrame is two dimensional structure which data that arrange in row and column, its has similarity with SQL table or excel sheets. "
   ]
  },
  {
   "cell_type": "code",
   "execution_count": 2,
   "metadata": {},
   "outputs": [
    {
     "data": {
      "text/html": [
       "<div>\n",
       "<style scoped>\n",
       "    .dataframe tbody tr th:only-of-type {\n",
       "        vertical-align: middle;\n",
       "    }\n",
       "\n",
       "    .dataframe tbody tr th {\n",
       "        vertical-align: top;\n",
       "    }\n",
       "\n",
       "    .dataframe thead th {\n",
       "        text-align: right;\n",
       "    }\n",
       "</style>\n",
       "<table border=\"1\" class=\"dataframe\">\n",
       "  <thead>\n",
       "    <tr style=\"text-align: right;\">\n",
       "      <th></th>\n",
       "      <th>Name</th>\n",
       "      <th>Age</th>\n",
       "    </tr>\n",
       "  </thead>\n",
       "  <tbody>\n",
       "    <tr>\n",
       "      <th>0</th>\n",
       "      <td>John</td>\n",
       "      <td>23</td>\n",
       "    </tr>\n",
       "    <tr>\n",
       "      <th>1</th>\n",
       "      <td>Anna</td>\n",
       "      <td>45</td>\n",
       "    </tr>\n",
       "    <tr>\n",
       "      <th>2</th>\n",
       "      <td>Peter</td>\n",
       "      <td>29</td>\n",
       "    </tr>\n",
       "  </tbody>\n",
       "</table>\n",
       "</div>"
      ],
      "text/plain": [
       "    Name  Age\n",
       "0   John   23\n",
       "1   Anna   45\n",
       "2  Peter   29"
      ]
     },
     "execution_count": 2,
     "metadata": {},
     "output_type": "execute_result"
    }
   ],
   "source": [
    "import pandas as pd\n",
    "\n",
    "# Create dataframe from dictionary\n",
    "data = {\n",
    "    'Name': ['John', 'Anna', 'Peter'],\n",
    "    'Age': [23, 45, 29]\n",
    "}\n",
    "\n",
    "pd.DataFrame(data)"
   ]
  },
  {
   "cell_type": "markdown",
   "metadata": {},
   "source": [
    "#### Import Dataset"
   ]
  },
  {
   "cell_type": "markdown",
   "metadata": {},
   "source": [
    "Dataset is loaded to Pandas dataframe using the `read_csv` function to read CSV file into dataframe"
   ]
  },
  {
   "cell_type": "code",
   "execution_count": null,
   "metadata": {},
   "outputs": [],
   "source": [
    "df = pd.read_csv(\"pima-indians-diabetes.csv\")"
   ]
  },
  {
   "cell_type": "markdown",
   "metadata": {},
   "source": [
    "#### Access Column"
   ]
  },
  {
   "cell_type": "markdown",
   "metadata": {},
   "source": [
    "`iloc` method is `Pandas` method that use to select index of integer on rows and column\n",
    "\n",
    "To select the index, we can use:\n",
    "* `:` for \"all index\"\n",
    "* `-1` refers to last index on Dataframe\n",
    "* `:-1` mean \"All column except last column\", `:` before `-1` mean \"all index before last index\"\n",
    "\n",
    "`values` is used to change DataFrame into numpy array"
   ]
  },
  {
   "cell_type": "code",
   "execution_count": null,
   "metadata": {},
   "outputs": [],
   "source": [
    "x = df.iloc[:, :-1].values #range from zero, up to -1(index of last column). All the column excluding the last one. (MATRIX FEATURE)\n",
    "y = df.iloc[:, -1].values # Dependent variable vector"
   ]
  },
  {
   "cell_type": "markdown",
   "metadata": {},
   "source": [
    "#### Frature Matrix and Dependant Vector Variable"
   ]
  },
  {
   "cell_type": "markdown",
   "metadata": {},
   "source": [
    "##### Feature Matrix"
   ]
  },
  {
   "cell_type": "markdown",
   "metadata": {},
   "source": [
    "\n",
    "Feature Matrix is matrix dan contain all of feature (or idependent variable) from dataset. Each rows on matrix representing one of data sample and each column representing one feature. \n",
    "\n",
    "Example of house dataset:\n",
    "* Size of house\n",
    "* Total of room\n",
    "* Age of house\n",
    "\n",
    "Then Feature Matrix will contain value for features on each house on dataset"
   ]
  },
  {
   "cell_type": "markdown",
   "metadata": {},
   "source": [
    "##### Dependent Vector Variable"
   ]
  },
  {
   "cell_type": "markdown",
   "metadata": {},
   "source": [
    "Dependent Vector Variable is a vector containing value of target variable (or dependent variable) that want to predict of classified.\n",
    "\n",
    "Example, for predicting house price based on above features, then Dependent Vector Variable will contain price of each house on dataset"
   ]
  },
  {
   "cell_type": "markdown",
   "metadata": {},
   "source": [
    "#### Identify Missing Data"
   ]
  },
  {
   "cell_type": "markdown",
   "metadata": {},
   "source": [
    "To identify missing data of DataFrame we can use isnull() method, return boolean value. Then count the missing data based on its value (boolean)"
   ]
  },
  {
   "cell_type": "code",
   "execution_count": null,
   "metadata": {},
   "outputs": [],
   "source": [
    "missing_data = df.isnull().sum()\n",
    "print(\"Missing data: \\n\", missing_data)"
   ]
  },
  {
   "cell_type": "markdown",
   "metadata": {},
   "source": []
  },
  {
   "cell_type": "markdown",
   "metadata": {},
   "source": [
    "#### Fill Missing Value of Data"
   ]
  },
  {
   "cell_type": "markdown",
   "metadata": {},
   "source": [
    "`SimpleImputer` is class from `sklearn.impute` module. This class is provide basic strategies for imputing (filling in) missing value, using either constant or the mean, median, or medium, etc. `imputer` is object that initialized from class `Simple Imputer` by using `SimpleImputer(missing_values=np.nan, strategy=\"mean\")`. When we initialized, we pass argument `missing_value=np.nan` and `strategy=\"mean\"` to the __init__ method from class `Simple Imputer`. `missing_value=np.nan` indicate for filling missing value that represented as `np.nan` (missing data in pandas DataFrame) and `strategy=\"mean` to use mean as strategy to fill missing value. Both is argument specifies that passed to the `SimpleImputer` class when instance is created. \n",
    "\n",
    "With using `imputer`, we use this object to fill missing value on our data with using mean strategy."
   ]
  },
  {
   "cell_type": "code",
   "execution_count": null,
   "metadata": {},
   "outputs": [],
   "source": [
    "imputer = SimpleImputer(missing_values=np.nan, strategy=\"mean\")"
   ]
  },
  {
   "cell_type": "markdown",
   "metadata": {},
   "source": [
    "After instance of `SimpleImputer` is stored in `imputer` as object. To fill the missing data we use `fit` and `transform` methods. `fit` method will compute the imputation values based on the provide data, and the `transform` method will fill the missing values."
   ]
  },
  {
   "cell_type": "code",
   "execution_count": null,
   "metadata": {},
   "outputs": [],
   "source": [
    "imputer.fit(df)\n",
    "dataset_imputed = imputer.transform(df)\n",
    "print(df)"
   ]
  }
 ],
 "metadata": {
  "kernelspec": {
   "display_name": "Python 3",
   "language": "python",
   "name": "python3"
  },
  "language_info": {
   "codemirror_mode": {
    "name": "ipython",
    "version": 3
   },
   "file_extension": ".py",
   "mimetype": "text/x-python",
   "name": "python",
   "nbconvert_exporter": "python",
   "pygments_lexer": "ipython3",
   "version": "3.12.0"
  }
 },
 "nbformat": 4,
 "nbformat_minor": 2
}
